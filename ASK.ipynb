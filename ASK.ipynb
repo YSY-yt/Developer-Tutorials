{
 "cells": [
  {
   "cell_type": "code",
   "execution_count": 2,
   "id": "6cc9ac5f-f13e-44ed-b17d-ee9568b703db",
   "metadata": {},
   "outputs": [
    {
     "name": "stdout",
     "output_type": "stream",
     "text": [
      "使用prompt的实践和指导原则\n"
     ]
    }
   ],
   "source": [
    "with open('ASK.txt', 'r') as file:\n",
    "    content = file.read()\n",
    "    print(content)\n",
    "    file.close()"
   ]
  },
  {
   "cell_type": "code",
   "execution_count": 3,
   "id": "654b7b08-639a-41ad-a45b-4c8a6651c774",
   "metadata": {},
   "outputs": [
    {
     "name": "stdout",
     "output_type": "stream",
     "text": [
      "开始请求···\n",
      "\"Prompt\"在编程中通常指的是提示用户输入的命令或语句。以下是一些使用prompt的实践和指导原则：\n",
      "\n",
      "1. **明确性**：确保你的prompt清楚地告诉用户需要做什么。例如，而不是简单地说“输入一些东西”，你可以更具体地提示：“请输入你的名字”。\n",
      "\n",
      "2. **简洁性**：尽量保持prompt简短且直接。避免长篇大论的说明，用户可能会在阅读完所有信息之前就感到困惑或沮丧。\n",
      "\n",
      "3. **预期输入类型**：如果可能，明确指出你期望用户输入什么类型的数据。例如，“请输入一个数字”或“请输入你的电子邮件地址”。\n",
      "\n",
      "4. **错误处理**：当用户提供无效输入时，提供有用的错误消息。例如，如果用户在要求输入数字的地方输入了字母，错误消息可以是“请输入一个有效的数字”。\n",
      "\n",
      "5. **提供帮助**：如果用户可能不知道如何响应，提供帮助或示例。例如，“请输入你的出生日期（格式为YYYY-MM-DD）”。\n",
      "\n",
      "6. **反馈**：用户输入后，给予反馈确认你已经接收到了他们的输入。这可以是一个简单的消息，如“已收到你的输入”。\n",
      "\n",
      "7. **设计考虑**：在图形用户界面（GUI）中，prompt应该与界面的其他部分协调一致，以提供良好的用户体验。\n",
      "\n",
      "8. **避免过度使用**：虽然prompt可以帮助获取用户输入，但过度使用可能会打断用户的流程，使他们感到困扰。尽量只在必要的时候使用。\n",
      "\n",
      "9. **测试**：在发布前，确保对各种可能的输入进行测试，包括边缘情况和异常情况。\n",
      "\n",
      "10. **尊重隐私**：不要请求不必要的个人信息，除非有明确的合法理由，并且已经告知用户为何需要这些信息。\n"
     ]
    }
   ],
   "source": [
    "import requests\n",
    "\n",
    "print('开始请求···')\n",
    "\n",
    "# 定义 API 接口的 URL\n",
    "url = 'https://api.linkmore.app/askAI'\n",
    "\n",
    "#准备header\n",
    "headers={\"Content-Type\": \"application/json; charset=utf-8\"}\n",
    "\n",
    "# 准备要发送的数据\n",
    "data = {\n",
    "    'content': content\n",
    "}\n",
    "\n",
    "# 发送 POST 请求\n",
    "response = requests.post(url, headers=headers, json=data)\n",
    "\n",
    "# 检查请求是否成功\n",
    "if response.status_code == 200:\n",
    "    # 处理返回的数据\n",
    "    result = response.json()  # 如果返回的是 JSON 格式的数据\n",
    "    print(result['content'])\n",
    "else:\n",
    "    print(f'请求失败，状态码: {response.status_code}')"
   ]
  }
 ],
 "metadata": {
  "kernelspec": {
   "display_name": "Python 3 (ipykernel)",
   "language": "python",
   "name": "python3"
  },
  "language_info": {
   "codemirror_mode": {
    "name": "ipython",
    "version": 3
   },
   "file_extension": ".py",
   "mimetype": "text/x-python",
   "name": "python",
   "nbconvert_exporter": "python",
   "pygments_lexer": "ipython3",
   "version": "3.11.7"
  }
 },
 "nbformat": 4,
 "nbformat_minor": 5
}
